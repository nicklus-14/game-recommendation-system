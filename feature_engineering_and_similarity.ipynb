{
 "cells": [
  {
   "cell_type": "code",
   "execution_count": 9,
   "id": "ea434f31",
   "metadata": {},
   "outputs": [],
   "source": [
    "!pip install sentence-transformers"
   ]
  },
  {
   "cell_type": "code",
   "execution_count": 8,
   "id": "39756b8f",
   "metadata": {},
   "outputs": [],
   "source": [
    "import pandas as pd\n",
    "import re\n",
    "import nltk\n",
    "import numpy as np\n",
    "from nltk.tokenize import word_tokenize\n",
    "from nltk.corpus import stopwords\n",
    "from nltk.stem import WordNetLemmatizer\n",
    "from sklearn.feature_extraction.text import CountVectorizer, TfidfVectorizer\n",
    "from sklearn.metrics.pairwise import cosine_similarity\n",
    "from sklearn.preprocessing import MultiLabelBinarizer\n",
    "from sentence_transformers import SentenceTransformer\n",
    "import ast\n",
    "import faiss\n",
    "# import json"
   ]
  },
  {
   "cell_type": "code",
   "execution_count": null,
   "id": "d69c3cee",
   "metadata": {},
   "outputs": [],
   "source": [
    "nltk.download('punkt_tab')\n",
    "nltk.download('stopwords')"
   ]
  },
  {
   "cell_type": "markdown",
   "id": "5063013b",
   "metadata": {},
   "source": [
    "# 1) Load to Memory & Merge Features and Desc."
   ]
  },
  {
   "cell_type": "code",
   "execution_count": null,
   "id": "86c2daec",
   "metadata": {},
   "outputs": [],
   "source": [
    "games_df = pd.read_csv('games.csv')\n",
    "metadata_df = pd.read_json('games_metadata.json', lines=True)\n",
    "\n",
    "df = pd.merge(games_df, metadata_df, on='app_id', how='inner')\n",
    "\n",
    "games_df = None\n",
    "metadata_df = None"
   ]
  },
  {
   "cell_type": "code",
   "execution_count": null,
   "id": "c0ceb065",
   "metadata": {},
   "outputs": [],
   "source": [
    "# df.to_csv('Altered CSVs/merged_game_data.csv', index=False)"
   ]
  },
  {
   "cell_type": "code",
   "execution_count": null,
   "id": "af9f2cdb",
   "metadata": {},
   "outputs": [],
   "source": [
    "# df = pd.read_csv('Altered CSVs/merged_game_data.csv')"
   ]
  },
  {
   "cell_type": "markdown",
   "id": "85dd401b",
   "metadata": {},
   "source": [
    "# 2.2) MultiLabelBinarizer"
   ]
  },
  {
   "cell_type": "code",
   "execution_count": null,
   "id": "50112407",
   "metadata": {},
   "outputs": [],
   "source": [
    "# df = pd.read_csv('Altered CSVs/merged_game_data.csv')"
   ]
  },
  {
   "cell_type": "code",
   "execution_count": null,
   "id": "ed33b844",
   "metadata": {},
   "outputs": [],
   "source": [
    "mlb = MultiLabelBinarizer()\n",
    "\n",
    "# Convert the 'tags' column from a string representation of a list to an actual list\n",
    "df['tags'] = df['tags'].apply(lambda x: ast.literal_eval(x) if isinstance(x, str) else x)\n",
    "\n",
    "tag_matrix = mlb.fit_transform(df['tags'])\n",
    "\n",
    "tags_df = pd.DataFrame(tag_matrix, columns=mlb.classes_)\n",
    "\n",
    "df = pd.concat([df, tags_df], axis=1)"
   ]
  },
  {
   "cell_type": "code",
   "execution_count": null,
   "id": "068927bf",
   "metadata": {},
   "outputs": [],
   "source": [
    "# df.to_csv('Altered CSVs/MutliLabelBinarized.csv', index=False)"
   ]
  },
  {
   "cell_type": "markdown",
   "id": "7e229f1b",
   "metadata": {},
   "source": [
    "# 3.2) Sentance Transformer / Embeddings\n",
    "\n"
   ]
  },
  {
   "cell_type": "code",
   "execution_count": null,
   "id": "89d2345f",
   "metadata": {},
   "outputs": [],
   "source": [
    "# df = pd.read_csv('Altered CSVs/MutliLabelBinarized.csv')"
   ]
  },
  {
   "cell_type": "code",
   "execution_count": null,
   "id": "5d876b5f",
   "metadata": {},
   "outputs": [],
   "source": [
    "model = SentenceTransformer('all-MiniLM-L6-v2')\n",
    "\n",
    "df['title'] = df['title'].fillna('')\n",
    "df['description'] = df['description'].fillna('')\n",
    "\n",
    "df['text_for_embedding'] = df['title'] + ' ' + df['description'] + ' ' + df['tags']\n",
    "\n",
    "df['embedding'] = list(text_embeddings)"
   ]
  },
  {
   "cell_type": "code",
   "execution_count": null,
   "id": "f4b82827",
   "metadata": {},
   "outputs": [],
   "source": [
    "# df.to_csv('Altered CSVs/with_embeddings.csv', index=False)"
   ]
  },
  {
   "cell_type": "markdown",
   "id": "c246e494",
   "metadata": {},
   "source": [
    "# 4.2) Normalization"
   ]
  },
  {
   "cell_type": "markdown",
   "id": "6c36e77c",
   "metadata": {},
   "source": [
    "## Min-Max"
   ]
  },
  {
   "cell_type": "code",
   "execution_count": null,
   "id": "a406a0cb",
   "metadata": {},
   "outputs": [],
   "source": [
    "# df = pd.read_csv('Altered CSVs/with_embeddings.csv')"
   ]
  },
  {
   "cell_type": "markdown",
   "id": "c8f02ceb",
   "metadata": {},
   "source": [
    "**Applied for Ratings**"
   ]
  },
  {
   "cell_type": "code",
   "execution_count": null,
   "id": "8c0cc710",
   "metadata": {},
   "outputs": [],
   "source": [
    "rating_dict = {\n",
    "    'Overwhelmingly Positive': 9,\n",
    "    'Very Positive': 8,\n",
    "    'Positive': 7,\n",
    "    'Mostly Positive': 6,\n",
    "    'Mixed': 5,\n",
    "    'Mostly Negative': 4,\n",
    "    'Negative': 3,\n",
    "    'Very Negative': 2,\n",
    "    'Overwhelmingly Negative': 1\n",
    "}\n",
    "\n",
    "df['rating_normalized'] = (df['rating'].map(rating_dict) - 1) / 8"
   ]
  },
  {
   "cell_type": "markdown",
   "id": "4c2d7661",
   "metadata": {},
   "source": [
    "## Log Normalizing"
   ]
  },
  {
   "cell_type": "markdown",
   "id": "f4716403",
   "metadata": {},
   "source": [
    "**Applied for Positive Ratio, Price, and Review Count**"
   ]
  },
  {
   "cell_type": "code",
   "execution_count": 11,
   "id": "540d0d96",
   "metadata": {},
   "outputs": [],
   "source": [
    "df['positive_ratio_log'] = np.log1p(df['positive_ratio'])\n",
    "df['price_log'] = np.log1p(df['price_final'])\n",
    "df['user_reviews_log'] = np.log1p(df['user_reviews'])"
   ]
  },
  {
   "cell_type": "code",
   "execution_count": null,
   "id": "da7cf1f5",
   "metadata": {},
   "outputs": [],
   "source": [
    "# df.to_csv('Altered CSVs/normalized.csv', index=False)"
   ]
  },
  {
   "cell_type": "markdown",
   "id": "a3226026",
   "metadata": {},
   "source": [
    "# 5.2) Concatenating Features"
   ]
  },
  {
   "cell_type": "code",
   "execution_count": null,
   "id": "67e6e4c0",
   "metadata": {},
   "outputs": [],
   "source": [
    "# df = pd.read_csv('Altered CSVs/normalized.csv')"
   ]
  },
  {
   "cell_type": "code",
   "execution_count": null,
   "id": "305cf9de",
   "metadata": {},
   "outputs": [],
   "source": [
    "numerics = df[['price_log', 'positive_ratio_log', 'user_reviews_log']]\n",
    "\n",
    "X = np.hstack([numerics])"
   ]
  }
 ],
 "metadata": {
  "kernelspec": {
   "display_name": "base",
   "language": "python",
   "name": "python3"
  },
  "language_info": {
   "codemirror_mode": {
    "name": "ipython",
    "version": 3
   },
   "file_extension": ".py",
   "mimetype": "text/x-python",
   "name": "python",
   "nbconvert_exporter": "python",
   "pygments_lexer": "ipython3",
   "version": "3.12.7"
  }
 },
 "nbformat": 4,
 "nbformat_minor": 5
}
