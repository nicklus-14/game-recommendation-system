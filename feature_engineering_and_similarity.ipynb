{
 "cells": [
  {
   "cell_type": "code",
   "execution_count": 9,
   "id": "ea434f31",
   "metadata": {},
   "outputs": [],
   "source": [
    "!pip install sentence-transformers"
   ]
  },
  {
   "cell_type": "code",
   "execution_count": 8,
   "id": "39756b8f",
   "metadata": {},
   "outputs": [],
   "source": [
    "import pandas as pd\n",
    "import re\n",
    "import nltk\n",
    "import numpy as np\n",
    "from nltk.tokenize import word_tokenize\n",
    "from nltk.corpus import stopwords\n",
    "from nltk.stem import WordNetLemmatizer\n",
    "from sklearn.feature_extraction.text import CountVectorizer, TfidfVectorizer\n",
    "from sklearn.metrics.pairwise import cosine_similarity\n",
    "from sklearn.preprocessing import MultiLabelBinarizer\n",
    "from sentence_transformers import SentenceTransformer\n",
    "import ast\n",
    "import faiss\n",
    "# import json"
   ]
  },
  {
   "cell_type": "code",
   "execution_count": null,
   "id": "d69c3cee",
   "metadata": {},
   "outputs": [],
   "source": [
    "nltk.download('punkt_tab')\n",
    "nltk.download('stopwords')"
   ]
  },
  {
   "cell_type": "markdown",
   "id": "5063013b",
   "metadata": {},
   "source": [
    "# Load to Memory & Merge Features and Desc."
   ]
  },
  {
   "cell_type": "code",
   "execution_count": null,
   "id": "86c2daec",
   "metadata": {},
   "outputs": [],
   "source": [
    "games_df = pd.read_csv('games.csv')\n",
    "metadata_df = pd.read_json('games_metadata.json', lines=True)\n",
    "\n",
    "df = pd.merge(games_df, metadata_df, on='app_id', how='inner')\n",
    "\n",
    "games_df = None\n",
    "metadata_df = None"
   ]
  },
  {
   "cell_type": "code",
   "execution_count": null,
   "id": "c0ceb065",
   "metadata": {},
   "outputs": [],
   "source": [
    "# df.to_csv('Altered CSVs/merged_game_data.csv', index=False)"
   ]
  },
  {
   "cell_type": "markdown",
   "id": "85dd401b",
   "metadata": {},
   "source": [
    "# MultiLabelBinarizer"
   ]
  },
  {
   "cell_type": "code",
   "execution_count": null,
   "id": "50112407",
   "metadata": {},
   "outputs": [],
   "source": [
    "# df = pd.read_csv('Altered CSVs/merged_game_data.csv')"
   ]
  },
  {
   "cell_type": "code",
   "execution_count": null,
   "id": "ed33b844",
   "metadata": {},
   "outputs": [],
   "source": [
    "mlb = MultiLabelBinarizer()\n",
    "\n",
    "# Convert the 'tags' column from a string representation of a list to an actual list\n",
    "df['tags'] = df['tags'].apply(lambda x: ast.literal_eval(x) if isinstance(x, str) else x)\n",
    "\n",
    "tag_matrix = mlb.fit_transform(df['tags'])\n",
    "\n",
    "tags_df = pd.DataFrame(tag_matrix, columns=mlb.classes_)\n",
    "\n",
    "df = pd.concat([df, tags_df], axis=1)"
   ]
  },
  {
   "cell_type": "code",
   "execution_count": null,
   "id": "068927bf",
   "metadata": {},
   "outputs": [],
   "source": [
    "# df.to_csv('Altered CSVs/MutliLabelBinarized.csv', index=False)"
   ]
  },
  {
   "cell_type": "markdown",
   "id": "a11d7021",
   "metadata": {},
   "source": [
    "# Preprocessing"
   ]
  },
  {
   "cell_type": "markdown",
   "id": "c24e5bd6",
   "metadata": {},
   "source": [
    "## Cleaning"
   ]
  },
  {
   "cell_type": "code",
   "execution_count": null,
   "id": "26a7cb1d",
   "metadata": {},
   "outputs": [],
   "source": [
    "# df = pd.read_csv('Altered CSVs/MutliLabelBinarized.csv')"
   ]
  },
  {
   "cell_type": "code",
   "execution_count": 6,
   "id": "8ba55b93",
   "metadata": {},
   "outputs": [],
   "source": [
    "# Fill Empty Descriptions\n",
    "df['description'] = df['description'].fillna(df['title'] +' '+ df['tags'])"
   ]
  },
  {
   "cell_type": "code",
   "execution_count": 7,
   "id": "269c1cd8",
   "metadata": {},
   "outputs": [],
   "source": [
    "def clean_text(text):\n",
    "    # Remove Special Characters\n",
    "    text = re.sub(r'[^\\w\\s]', '', text)\n",
    "\n",
    "    # Sets all characters to lowercase\n",
    "    text = text.lower()\n",
    "\n",
    "    # Removes URLs beginning with https, http, or www\n",
    "    text = re.sub(r'https\\S+|http\\S+|www\\S+', '', text, flags=re.MULTILINE)\n",
    "    \n",
    "    return text"
   ]
  },
  {
   "cell_type": "code",
   "execution_count": 8,
   "id": "1f9a5fca",
   "metadata": {},
   "outputs": [],
   "source": [
    "df['description'] = df['description'].apply(clean_text)\n",
    "\n",
    "# Print any rows with descriptions with only whitespace characters\n",
    "empty_descriptions = df[df['description'].str.strip() == '']\n",
    "empty_descriptions"
   ]
  },
  {
   "cell_type": "code",
   "execution_count": 9,
   "id": "f06c8bea",
   "metadata": {},
   "outputs": [
    {
     "data": {
      "text/html": [
       "<div>\n",
       "<style scoped>\n",
       "    .dataframe tbody tr th:only-of-type {\n",
       "        vertical-align: middle;\n",
       "    }\n",
       "\n",
       "    .dataframe tbody tr th {\n",
       "        vertical-align: top;\n",
       "    }\n",
       "\n",
       "    .dataframe thead th {\n",
       "        text-align: right;\n",
       "    }\n",
       "</style>\n",
       "<table border=\"1\" class=\"dataframe\">\n",
       "  <thead>\n",
       "    <tr style=\"text-align: right;\">\n",
       "      <th></th>\n",
       "      <th>app_id</th>\n",
       "      <th>title</th>\n",
       "      <th>date_release</th>\n",
       "      <th>win</th>\n",
       "      <th>mac</th>\n",
       "      <th>linux</th>\n",
       "      <th>rating</th>\n",
       "      <th>positive_ratio</th>\n",
       "      <th>user_reviews</th>\n",
       "      <th>price_final</th>\n",
       "      <th>...</th>\n",
       "      <th>Competitive</th>\n",
       "      <th>Faith</th>\n",
       "      <th>8-bit Music</th>\n",
       "      <th>Arcade</th>\n",
       "      <th>Relaxing</th>\n",
       "      <th>Lemmings</th>\n",
       "      <th>Emotional</th>\n",
       "      <th>1990s</th>\n",
       "      <th>Beat em up</th>\n",
       "      <th>Shoot Em Up</th>\n",
       "    </tr>\n",
       "  </thead>\n",
       "  <tbody>\n",
       "    <tr>\n",
       "      <th>14865</th>\n",
       "      <td>1456880</td>\n",
       "      <td>ElecHead</td>\n",
       "      <td>2021-10-14</td>\n",
       "      <td>True</td>\n",
       "      <td>False</td>\n",
       "      <td>False</td>\n",
       "      <td>Overwhelmingly Positive</td>\n",
       "      <td>98</td>\n",
       "      <td>588</td>\n",
       "      <td>9.99</td>\n",
       "      <td>...</td>\n",
       "      <td>0</td>\n",
       "      <td>0</td>\n",
       "      <td>0</td>\n",
       "      <td>0</td>\n",
       "      <td>0</td>\n",
       "      <td>0</td>\n",
       "      <td>0</td>\n",
       "      <td>0</td>\n",
       "      <td>0</td>\n",
       "      <td>0</td>\n",
       "    </tr>\n",
       "    <tr>\n",
       "      <th>25173</th>\n",
       "      <td>342570</td>\n",
       "      <td>HIS (Heroes In the Sky)</td>\n",
       "      <td>2015-03-03</td>\n",
       "      <td>True</td>\n",
       "      <td>False</td>\n",
       "      <td>False</td>\n",
       "      <td>Mostly Negative</td>\n",
       "      <td>38</td>\n",
       "      <td>539</td>\n",
       "      <td>0.00</td>\n",
       "      <td>...</td>\n",
       "      <td>0</td>\n",
       "      <td>0</td>\n",
       "      <td>0</td>\n",
       "      <td>1</td>\n",
       "      <td>0</td>\n",
       "      <td>0</td>\n",
       "      <td>0</td>\n",
       "      <td>0</td>\n",
       "      <td>0</td>\n",
       "      <td>0</td>\n",
       "    </tr>\n",
       "    <tr>\n",
       "      <th>44906</th>\n",
       "      <td>1837980</td>\n",
       "      <td>Our Elusive Suffering</td>\n",
       "      <td>2022-03-26</td>\n",
       "      <td>True</td>\n",
       "      <td>False</td>\n",
       "      <td>False</td>\n",
       "      <td>Mixed</td>\n",
       "      <td>68</td>\n",
       "      <td>70</td>\n",
       "      <td>0.00</td>\n",
       "      <td>...</td>\n",
       "      <td>0</td>\n",
       "      <td>0</td>\n",
       "      <td>0</td>\n",
       "      <td>0</td>\n",
       "      <td>0</td>\n",
       "      <td>0</td>\n",
       "      <td>0</td>\n",
       "      <td>0</td>\n",
       "      <td>0</td>\n",
       "      <td>0</td>\n",
       "    </tr>\n",
       "  </tbody>\n",
       "</table>\n",
       "<p>3 rows × 459 columns</p>\n",
       "</div>"
      ],
      "text/plain": [
       "        app_id                    title date_release   win    mac  linux  \\\n",
       "14865  1456880                 ElecHead   2021-10-14  True  False  False   \n",
       "25173   342570  HIS (Heroes In the Sky)   2015-03-03  True  False  False   \n",
       "44906  1837980    Our Elusive Suffering   2022-03-26  True  False  False   \n",
       "\n",
       "                        rating  positive_ratio  user_reviews  price_final  \\\n",
       "14865  Overwhelmingly Positive              98           588         9.99   \n",
       "25173          Mostly Negative              38           539         0.00   \n",
       "44906                    Mixed              68            70         0.00   \n",
       "\n",
       "       ...  Competitive  Faith  8-bit Music Arcade Relaxing  Lemmings  \\\n",
       "14865  ...            0      0            0      0        0         0   \n",
       "25173  ...            0      0            0      1        0         0   \n",
       "44906  ...            0      0            0      0        0         0   \n",
       "\n",
       "       Emotional  1990s  Beat em up  Shoot Em Up  \n",
       "14865          0      0           0            0  \n",
       "25173          0      0           0            0  \n",
       "44906          0      0           0            0  \n",
       "\n",
       "[3 rows x 459 columns]"
      ]
     },
     "execution_count": 9,
     "metadata": {},
     "output_type": "execute_result"
    }
   ],
   "source": [
    "# Print any rows with descriptions with only whitespace characters\n",
    "empty_descriptions = df[df['description'].str.strip() == '']\n",
    "empty_descriptions"
   ]
  },
  {
   "cell_type": "code",
   "execution_count": 10,
   "id": "dbdfe176",
   "metadata": {},
   "outputs": [
    {
     "data": {
      "text/html": [
       "<div>\n",
       "<style scoped>\n",
       "    .dataframe tbody tr th:only-of-type {\n",
       "        vertical-align: middle;\n",
       "    }\n",
       "\n",
       "    .dataframe tbody tr th {\n",
       "        vertical-align: top;\n",
       "    }\n",
       "\n",
       "    .dataframe thead th {\n",
       "        text-align: right;\n",
       "    }\n",
       "</style>\n",
       "<table border=\"1\" class=\"dataframe\">\n",
       "  <thead>\n",
       "    <tr style=\"text-align: right;\">\n",
       "      <th></th>\n",
       "      <th>app_id</th>\n",
       "      <th>title</th>\n",
       "      <th>date_release</th>\n",
       "      <th>win</th>\n",
       "      <th>mac</th>\n",
       "      <th>linux</th>\n",
       "      <th>rating</th>\n",
       "      <th>positive_ratio</th>\n",
       "      <th>user_reviews</th>\n",
       "      <th>price_final</th>\n",
       "      <th>...</th>\n",
       "      <th>Competitive</th>\n",
       "      <th>Faith</th>\n",
       "      <th>8-bit Music</th>\n",
       "      <th>Arcade</th>\n",
       "      <th>Relaxing</th>\n",
       "      <th>Lemmings</th>\n",
       "      <th>Emotional</th>\n",
       "      <th>1990s</th>\n",
       "      <th>Beat em up</th>\n",
       "      <th>Shoot Em Up</th>\n",
       "    </tr>\n",
       "  </thead>\n",
       "  <tbody>\n",
       "    <tr>\n",
       "      <th>29524</th>\n",
       "      <td>930840</td>\n",
       "      <td>东方百问~TouHouAsked</td>\n",
       "      <td>2018-10-07</td>\n",
       "      <td>True</td>\n",
       "      <td>False</td>\n",
       "      <td>False</td>\n",
       "      <td>Positive</td>\n",
       "      <td>93</td>\n",
       "      <td>29</td>\n",
       "      <td>0.99</td>\n",
       "      <td>...</td>\n",
       "      <td>0</td>\n",
       "      <td>1</td>\n",
       "      <td>0</td>\n",
       "      <td>0</td>\n",
       "      <td>0</td>\n",
       "      <td>0</td>\n",
       "      <td>0</td>\n",
       "      <td>0</td>\n",
       "      <td>0</td>\n",
       "      <td>0</td>\n",
       "    </tr>\n",
       "  </tbody>\n",
       "</table>\n",
       "<p>1 rows × 459 columns</p>\n",
       "</div>"
      ],
      "text/plain": [
       "       app_id             title date_release   win    mac  linux    rating  \\\n",
       "29524  930840  东方百问~TouHouAsked   2018-10-07  True  False  False  Positive   \n",
       "\n",
       "       positive_ratio  user_reviews  price_final  ...  Competitive  Faith  \\\n",
       "29524              93            29         0.99  ...            0      1   \n",
       "\n",
       "       8-bit Music Arcade Relaxing  Lemmings  Emotional  1990s  Beat em up  \\\n",
       "29524            0      0        0         0          0      0           0   \n",
       "\n",
       "       Shoot Em Up  \n",
       "29524            0  \n",
       "\n",
       "[1 rows x 459 columns]"
      ]
     },
     "execution_count": 10,
     "metadata": {},
     "output_type": "execute_result"
    }
   ],
   "source": [
    "null_literal_descriptions = df[df['description'].str.strip() == 'null']\n",
    "null_literal_descriptions"
   ]
  },
  {
   "cell_type": "markdown",
   "id": "0b14ad38",
   "metadata": {},
   "source": [
    "Refill Empty, Whitespace Descriptions ~~and Null Literal Descriptions~~"
   ]
  },
  {
   "cell_type": "code",
   "execution_count": 11,
   "id": "d3208d0b",
   "metadata": {},
   "outputs": [],
   "source": [
    "rows = df['description'].str.strip() == ''\n",
    "df.loc[rows, 'description'] = df.loc[rows, 'title'] +' '+ df.loc[rows, 'tags']\n",
    "\n",
    "# Apply Cleaning to Whitespace Columns\n",
    "df.loc[rows, 'description'] = df.loc[rows, 'description'].apply(clean_text)\n",
    "\n",
    "# Reprint any rows with descriptions with only whitespace characters\n",
    "empty_descriptions = df[df['description'].str.strip() == '']\n"
   ]
  },
  {
   "cell_type": "code",
   "execution_count": 12,
   "id": "a1e81407",
   "metadata": {},
   "outputs": [],
   "source": [
    "# Apply Cleaning to Whitespace Columns\n",
    "df.loc[rows, 'description'] = df.loc[rows, 'description'].apply(clean_text)"
   ]
  },
  {
   "cell_type": "code",
   "execution_count": 13,
   "id": "69d51d6a",
   "metadata": {},
   "outputs": [
    {
     "data": {
      "text/html": [
       "<div>\n",
       "<style scoped>\n",
       "    .dataframe tbody tr th:only-of-type {\n",
       "        vertical-align: middle;\n",
       "    }\n",
       "\n",
       "    .dataframe tbody tr th {\n",
       "        vertical-align: top;\n",
       "    }\n",
       "\n",
       "    .dataframe thead th {\n",
       "        text-align: right;\n",
       "    }\n",
       "</style>\n",
       "<table border=\"1\" class=\"dataframe\">\n",
       "  <thead>\n",
       "    <tr style=\"text-align: right;\">\n",
       "      <th></th>\n",
       "      <th>app_id</th>\n",
       "      <th>title</th>\n",
       "      <th>date_release</th>\n",
       "      <th>win</th>\n",
       "      <th>mac</th>\n",
       "      <th>linux</th>\n",
       "      <th>rating</th>\n",
       "      <th>positive_ratio</th>\n",
       "      <th>user_reviews</th>\n",
       "      <th>price_final</th>\n",
       "      <th>...</th>\n",
       "      <th>Competitive</th>\n",
       "      <th>Faith</th>\n",
       "      <th>8-bit Music</th>\n",
       "      <th>Arcade</th>\n",
       "      <th>Relaxing</th>\n",
       "      <th>Lemmings</th>\n",
       "      <th>Emotional</th>\n",
       "      <th>1990s</th>\n",
       "      <th>Beat em up</th>\n",
       "      <th>Shoot Em Up</th>\n",
       "    </tr>\n",
       "  </thead>\n",
       "  <tbody>\n",
       "  </tbody>\n",
       "</table>\n",
       "<p>0 rows × 459 columns</p>\n",
       "</div>"
      ],
      "text/plain": [
       "Empty DataFrame\n",
       "Columns: [app_id, title, date_release, win, mac, linux, rating, positive_ratio, user_reviews, price_final, price_original, discount, steam_deck, description, tags, Naval Combat, Mining, Submarine, Design & Illustration, Jet, Stealth, Card Game, Hunting, Intentionally Awkward Controls, Life Sim, Pirates, Psychological Horror, Animation & Modeling, Colony Sim, 3D Platformer, Card Battler, Based On A Novel, Tower Defense, Singleplayer, Science, Fighting, Combat Racing, Top-Down, Combat, Hockey, Post-apocalyptic, Game Development, On-Rails Shooter, 4X, Hentai, 2D Fighter, Party-Based RPG, Choose Your Own Adventure, Metroidvania, Real-Time with Pause, Hand-drawn, Action, Addictive, JRPG, Mars, Loot, Naval, PvP, Nudity, First-Person, RPG, Medical Sim, Agriculture, Puzzle, Robots, Sandbox, 6DOF, Spectacle fighter, Twin Stick Shooter, Philosophical, 360 Video, Turn-Based Strategy, Hacking, CRPG, Immersive, Sokoban, Lore-Rich, Puzzle Platformer, Trading Card Game, Dungeon Crawler, Grid-Based Movement, Realistic, Narrative, Sniper, Great Soundtrack, Clicker, Tennis, Diplomacy, Team-Based, Hero Shooter, TrackIR, Open World, Sailing, Drama, Cricket, Fast-Paced, Tile-Matching, Time Manipulation, Outbreak Sim, Sequel, ...]\n",
       "Index: []\n",
       "\n",
       "[0 rows x 459 columns]"
      ]
     },
     "execution_count": 13,
     "metadata": {},
     "output_type": "execute_result"
    }
   ],
   "source": [
    "# Reprint any rows with descriptions with only whitespace characters\n",
    "empty_descriptions = df[df['description'].str.strip() == '']\n",
    "empty_descriptions"
   ]
  },
  {
   "cell_type": "code",
   "execution_count": 14,
   "id": "0827cf02",
   "metadata": {},
   "outputs": [
    {
     "data": {
      "text/plain": [
       "14865    elechead puzzle platformer puzzle platformer l...\n",
       "25173    his heroes in the sky free to play multiplayer...\n",
       "44906    our elusive suffering horror surreal explorati...\n",
       "Name: description, dtype: object"
      ]
     },
     "execution_count": 14,
     "metadata": {},
     "output_type": "execute_result"
    }
   ],
   "source": [
    "# Print Fixed Descriptions\n",
    "df.loc[rows, 'description']"
   ]
  },
  {
   "cell_type": "code",
   "execution_count": null,
   "id": "c3283fdc",
   "metadata": {},
   "outputs": [],
   "source": [
    "# Checking Random Description Columns\n",
    "pd.set_option('display.max_colwidth', None)\n",
    "print(df['description'].sample(n=3))\n",
    "pd.reset_option('display.max_colwidth')"
   ]
  },
  {
   "cell_type": "code",
   "execution_count": null,
   "id": "c5ace03c",
   "metadata": {},
   "outputs": [],
   "source": [
    "# df.to_csv('Altered CSVs/after_cleaning.csv', index=False)"
   ]
  },
  {
   "cell_type": "markdown",
   "id": "1a4f9ab3",
   "metadata": {},
   "source": [
    "## Tokenization & Lemmatization"
   ]
  },
  {
   "cell_type": "code",
   "execution_count": null,
   "id": "7a264ee0",
   "metadata": {},
   "outputs": [],
   "source": [
    "# df = pd.read_csv('Altered CSVs/after_cleaning.csv')"
   ]
  },
  {
   "cell_type": "code",
   "execution_count": 18,
   "id": "a75e2e23",
   "metadata": {},
   "outputs": [],
   "source": [
    "# Tokenize the descriptions\n",
    "df['tokens'] = df['description'].apply(word_tokenize)\n",
    "\n",
    "# Remove Stop Words from Tokens\n",
    "stop_words = set(stopwords.words('english'))\n",
    "\n",
    "df['tokens'] = df['tokens'].apply(\n",
    "    lambda tokens: [word for word in tokens if word not in stop_words]\n",
    ")\n",
    "\n",
    "# Lemmatize the Tokens\n",
    "lemmatizer = WordNetLemmatizer()\n",
    "df['tokens'] = df['tokens'].apply(\n",
    "    lambda tokens: [lemmatizer.lemmatize(word) for word in tokens]\n",
    ")"
   ]
  },
  {
   "cell_type": "code",
   "execution_count": 21,
   "id": "eba61559",
   "metadata": {},
   "outputs": [],
   "source": [
    "# Remove Stop Words from Tokens\n",
    "stop_words = set(stopwords.words('english'))\n",
    "\n",
    "df['tokens'] = df['tokens'].apply(\n",
    "    lambda tokens: [word for word in tokens if word not in stop_words]\n",
    ")"
   ]
  },
  {
   "cell_type": "code",
   "execution_count": 23,
   "id": "7fec95e1",
   "metadata": {},
   "outputs": [],
   "source": [
    "# Lemmatize the Tokens\n",
    "lemmatizer = WordNetLemmatizer()\n",
    "df['tokens'] = df['tokens'].apply(\n",
    "    lambda tokens: [lemmatizer.lemmatize(word) for word in tokens]\n",
    ")"
   ]
  },
  {
   "cell_type": "code",
   "execution_count": null,
   "id": "2479a9a8",
   "metadata": {},
   "outputs": [],
   "source": [
    "# df.to_csv('Altered CSVs/after_tokenization.csv', index=False)"
   ]
  },
  {
   "cell_type": "markdown",
   "id": "7e229f1b",
   "metadata": {},
   "source": [
    "# Sentance Transformer / Embeddings\n",
    "\n"
   ]
  },
  {
   "cell_type": "code",
   "execution_count": null,
   "id": "89d2345f",
   "metadata": {},
   "outputs": [],
   "source": [
    "# df = pd.read_csv('Altered CSVs/MutliLabelBinarized.csv')"
   ]
  },
  {
   "cell_type": "code",
   "execution_count": null,
   "id": "5d876b5f",
   "metadata": {},
   "outputs": [],
   "source": [
    "model = SentenceTransformer('all-MiniLM-L6-v2')\n",
    "\n",
    "\n",
    "df['title'] = df['title'].fillna('')\n",
    "df['description'] = df['description'].fillna('')\n",
    "\n",
    "texts = (df['title'] + ' ' + df['description'] + ' ' + df['tags']).tolist()\n",
    "\n",
    "text_embeddings = model.encode(texts, show_progress_bar=True, convert_to_numpy=True)\n",
    "\n",
    "df['embedding'] = list(text_embeddings)"
   ]
  },
  {
   "cell_type": "code",
   "execution_count": null,
   "id": "f4b82827",
   "metadata": {},
   "outputs": [],
   "source": [
    "# df.to_csv('Altered CSVs/with_embeddings.csv', index=False)"
   ]
  },
  {
   "cell_type": "markdown",
   "id": "c246e494",
   "metadata": {},
   "source": [
    "# Normalization"
   ]
  },
  {
   "cell_type": "markdown",
   "id": "6c36e77c",
   "metadata": {},
   "source": [
    "## Min-Max"
   ]
  },
  {
   "cell_type": "code",
   "execution_count": null,
   "id": "a406a0cb",
   "metadata": {},
   "outputs": [],
   "source": [
    "# df = pd.read_csv('Altered CSVs/with_embeddings.csv')"
   ]
  },
  {
   "cell_type": "markdown",
   "id": "c8f02ceb",
   "metadata": {},
   "source": [
    "**Applied for Ratings**"
   ]
  },
  {
   "cell_type": "code",
   "execution_count": 3,
   "id": "8c0cc710",
   "metadata": {},
   "outputs": [],
   "source": [
    "rating_dict = {\n",
    "    'Overwhelmingly Positive': 9,\n",
    "    'Very Positive': 8,\n",
    "    'Positive': 7,\n",
    "    'Mostly Positive': 6,\n",
    "    'Mixed': 5,\n",
    "    'Mostly Negative': 4,\n",
    "    'Negative': 3,\n",
    "    'Very Negative': 2,\n",
    "    'Overwhelmingly Negative': 1\n",
    "}\n",
    "\n",
    "df['rating_normalized'] = (df['rating'].map(rating_dict) - 1) / 8"
   ]
  },
  {
   "cell_type": "code",
   "execution_count": 5,
   "id": "300e2210",
   "metadata": {},
   "outputs": [],
   "source": [
    "df['rating_normalized'] = (df['rating'].map(rating_dict) - 1) / 8"
   ]
  },
  {
   "cell_type": "markdown",
   "id": "4c2d7661",
   "metadata": {},
   "source": [
    "## Log Normalizing"
   ]
  },
  {
   "cell_type": "markdown",
   "id": "f4716403",
   "metadata": {},
   "source": [
    "**Applied for Positive Ratio, Price, and Review Count**"
   ]
  },
  {
   "cell_type": "code",
   "execution_count": 11,
   "id": "540d0d96",
   "metadata": {},
   "outputs": [],
   "source": [
    "df['positive_ratio_log'] = np.log1p(df['positive_ratio'])\n",
    "df['price_log'] = np.log1p(df['price_final'])\n",
    "df['user_reviews_log'] = np.log1p(df['user_reviews'])"
   ]
  },
  {
   "cell_type": "code",
   "execution_count": null,
   "id": "da7cf1f5",
   "metadata": {},
   "outputs": [],
   "source": [
    "# df.to_csv('Altered CSVs/normalized.csv', index=False)"
   ]
  },
  {
   "cell_type": "markdown",
   "id": "a3226026",
   "metadata": {},
   "source": [
    "# Concatenating Features"
   ]
  },
  {
   "cell_type": "code",
   "execution_count": 20,
   "id": "67e6e4c0",
   "metadata": {},
   "outputs": [],
   "source": [
    "# df = pd.read_csv('Altered CSVs/normalized.csv')"
   ]
  },
  {
   "cell_type": "code",
   "execution_count": 29,
   "id": "305cf9de",
   "metadata": {},
   "outputs": [],
   "source": [
    "numerics = df[['price_log', 'positive_ratio_log', 'user_reviews_log']]\n",
    "\n",
    "X = np.hstack([numerics])"
   ]
  },
  {
   "cell_type": "code",
   "execution_count": null,
   "id": "18275975",
   "metadata": {},
   "outputs": [],
   "source": [
    "X = np.hstack([numerics])"
   ]
  },
  {
   "cell_type": "markdown",
   "id": "c8b593f1",
   "metadata": {},
   "source": [
    "# Cosine Similarity"
   ]
  },
  {
   "cell_type": "code",
   "execution_count": null,
   "id": "fdd0dd74",
   "metadata": {},
   "outputs": [],
   "source": [
    "# df = pd.read_csv('Altered CSVs/after_tokenization.csv')\n",
    "# Glue Tokens\n",
    "df['tokens'] = df['tokens'].apply(lambda tokens: ' '.join(tokens))\n",
    "def get_similar_games(app_id, top_n):\n",
    "    # Get Description for the given app_id\n",
    "    query = df[df['app_id'] == app_id]['tokens'].values[0]\n",
    "    query_vector = tfidf_vectorizer.transform([query])\n",
    "\n",
    "    # Compute cosine similarity\n",
    "    cosine_similarities = cosine_similarity(query_vector, tfidf_matrix).flatten()\n",
    "\n",
    "    # Get top_n indices of similar games; grabs the last n indexes from the sorted array and then flips them\n",
    "    top_indices = cosine_similarities.argsort()[-top_n-1:-1][::-1]\n",
    "\n",
    "    # Retrieve game titles and app_ids for the top similar games\n",
    "    similar_games = df.iloc[top_indices][['app_id', 'title', 'tokens']]\n",
    "    similar_games['similarity'] = cosine_similarities[top_indices]\n",
    "    similar_games = similar_games.sort_values(by='similarity', ascending=False)\n",
    "\n",
    "    # Return the DataFrame with similar games\n",
    "    return similar_games"
   ]
  }
 ],
 "metadata": {
  "kernelspec": {
   "display_name": "base",
   "language": "python",
   "name": "python3"
  },
  "language_info": {
   "codemirror_mode": {
    "name": "ipython",
    "version": 3
   },
   "file_extension": ".py",
   "mimetype": "text/x-python",
   "name": "python",
   "nbconvert_exporter": "python",
   "pygments_lexer": "ipython3",
   "version": "3.12.7"
  }
 },
 "nbformat": 4,
 "nbformat_minor": 5
}
