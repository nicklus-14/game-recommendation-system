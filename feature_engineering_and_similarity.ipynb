{
 "cells": [
  {
   "cell_type": "code",
   "execution_count": 9,
   "id": "ea434f31",
   "metadata": {},
   "outputs": [],
   "source": [
    "!pip install sentence-transformers"
   ]
  },
  {
   "cell_type": "code",
   "execution_count": 4,
   "id": "39756b8f",
   "metadata": {},
   "outputs": [],
   "source": [
    "import pandas as pd\n",
    "import re\n",
    "import nltk\n",
    "import numpy as np\n",
    "from nltk.tokenize import word_tokenize\n",
    "from nltk.corpus import stopwords\n",
    "from nltk.stem import WordNetLemmatizer\n",
    "from sklearn.feature_extraction.text import CountVectorizer, TfidfVectorizer\n",
    "from sklearn.metrics.pairwise import cosine_similarity\n",
    "from sklearn.preprocessing import MultiLabelBinarizer\n",
    "from sentence_transformers import SentenceTransformer\n",
    "import ast\n",
    "import faiss\n",
    "# import json"
   ]
  },
  {
   "cell_type": "code",
   "execution_count": null,
   "id": "d69c3cee",
   "metadata": {},
   "outputs": [],
   "source": [
    "nltk.download('punkt_tab')\n",
    "nltk.download('stopwords')"
   ]
  },
  {
   "cell_type": "markdown",
   "id": "5063013b",
   "metadata": {},
   "source": [
    "# Load to Memory & Merge Features and Desc."
   ]
  },
  {
   "cell_type": "code",
   "execution_count": null,
   "id": "86c2daec",
   "metadata": {},
   "outputs": [],
   "source": [
    "games_df = pd.read_csv('games.csv')\n",
    "metadata_df = pd.read_json('games_metadata.json', lines=True)\n",
    "\n",
    "df = pd.merge(games_df, metadata_df, on='app_id', how='inner')\n",
    "\n",
    "games_df = None\n",
    "metadata_df = None"
   ]
  },
  {
   "cell_type": "code",
   "execution_count": null,
   "id": "c0ceb065",
   "metadata": {},
   "outputs": [],
   "source": [
    "# df.to_csv('Altered CSVs/merged_game_data.csv', index=False)"
   ]
  },
  {
   "cell_type": "markdown",
   "id": "85dd401b",
   "metadata": {},
   "source": [
    "# MultiLabelBinarizer"
   ]
  },
  {
   "cell_type": "code",
   "execution_count": 8,
   "id": "50112407",
   "metadata": {},
   "outputs": [],
   "source": [
    "df = pd.read_csv('Altered CSVs/merged_game_data.csv')"
   ]
  },
  {
   "cell_type": "code",
   "execution_count": 9,
   "id": "ed33b844",
   "metadata": {},
   "outputs": [],
   "source": [
    "mlb = MultiLabelBinarizer()\n",
    "\n",
    "# Convert the 'tags' column from a string representation of a list to an actual list\n",
    "df['tags'] = df['tags'].apply(lambda x: ast.literal_eval(x) if isinstance(x, str) else x)\n",
    "\n",
    "tag_matrix = mlb.fit_transform(df['tags'])\n",
    "\n",
    "tags_df = pd.DataFrame(tag_matrix, columns=mlb.classes_)\n",
    "\n",
    "df = pd.concat([df, tags_df], axis=1)"
   ]
  },
  {
   "cell_type": "code",
   "execution_count": 10,
   "id": "f5ad176d",
   "metadata": {},
   "outputs": [
    {
     "data": {
      "text/html": [
       "<div>\n",
       "<style scoped>\n",
       "    .dataframe tbody tr th:only-of-type {\n",
       "        vertical-align: middle;\n",
       "    }\n",
       "\n",
       "    .dataframe tbody tr th {\n",
       "        vertical-align: top;\n",
       "    }\n",
       "\n",
       "    .dataframe thead th {\n",
       "        text-align: right;\n",
       "    }\n",
       "</style>\n",
       "<table border=\"1\" class=\"dataframe\">\n",
       "  <thead>\n",
       "    <tr style=\"text-align: right;\">\n",
       "      <th></th>\n",
       "      <th>1980s</th>\n",
       "      <th>1990's</th>\n",
       "      <th>2.5D</th>\n",
       "      <th>2D</th>\n",
       "      <th>2D Fighter</th>\n",
       "      <th>2D Platformer</th>\n",
       "      <th>360 Video</th>\n",
       "      <th>3D</th>\n",
       "      <th>3D Fighter</th>\n",
       "      <th>3D Platformer</th>\n",
       "      <th>...</th>\n",
       "      <th>Well-Written</th>\n",
       "      <th>Werewolves</th>\n",
       "      <th>Western</th>\n",
       "      <th>Wholesome</th>\n",
       "      <th>Word Game</th>\n",
       "      <th>World War I</th>\n",
       "      <th>World War II</th>\n",
       "      <th>Wrestling</th>\n",
       "      <th>Zombies</th>\n",
       "      <th>eSports</th>\n",
       "    </tr>\n",
       "  </thead>\n",
       "  <tbody>\n",
       "    <tr>\n",
       "      <th>0</th>\n",
       "      <td>0</td>\n",
       "      <td>0</td>\n",
       "      <td>0</td>\n",
       "      <td>0</td>\n",
       "      <td>0</td>\n",
       "      <td>0</td>\n",
       "      <td>0</td>\n",
       "      <td>0</td>\n",
       "      <td>0</td>\n",
       "      <td>0</td>\n",
       "      <td>...</td>\n",
       "      <td>0</td>\n",
       "      <td>0</td>\n",
       "      <td>0</td>\n",
       "      <td>0</td>\n",
       "      <td>0</td>\n",
       "      <td>0</td>\n",
       "      <td>0</td>\n",
       "      <td>0</td>\n",
       "      <td>0</td>\n",
       "      <td>0</td>\n",
       "    </tr>\n",
       "    <tr>\n",
       "      <th>1</th>\n",
       "      <td>0</td>\n",
       "      <td>0</td>\n",
       "      <td>0</td>\n",
       "      <td>0</td>\n",
       "      <td>0</td>\n",
       "      <td>0</td>\n",
       "      <td>0</td>\n",
       "      <td>0</td>\n",
       "      <td>0</td>\n",
       "      <td>0</td>\n",
       "      <td>...</td>\n",
       "      <td>0</td>\n",
       "      <td>0</td>\n",
       "      <td>0</td>\n",
       "      <td>0</td>\n",
       "      <td>0</td>\n",
       "      <td>0</td>\n",
       "      <td>0</td>\n",
       "      <td>0</td>\n",
       "      <td>0</td>\n",
       "      <td>0</td>\n",
       "    </tr>\n",
       "    <tr>\n",
       "      <th>2</th>\n",
       "      <td>0</td>\n",
       "      <td>0</td>\n",
       "      <td>0</td>\n",
       "      <td>1</td>\n",
       "      <td>0</td>\n",
       "      <td>0</td>\n",
       "      <td>0</td>\n",
       "      <td>0</td>\n",
       "      <td>0</td>\n",
       "      <td>0</td>\n",
       "      <td>...</td>\n",
       "      <td>0</td>\n",
       "      <td>0</td>\n",
       "      <td>0</td>\n",
       "      <td>0</td>\n",
       "      <td>0</td>\n",
       "      <td>0</td>\n",
       "      <td>0</td>\n",
       "      <td>0</td>\n",
       "      <td>0</td>\n",
       "      <td>0</td>\n",
       "    </tr>\n",
       "    <tr>\n",
       "      <th>3</th>\n",
       "      <td>0</td>\n",
       "      <td>0</td>\n",
       "      <td>0</td>\n",
       "      <td>0</td>\n",
       "      <td>0</td>\n",
       "      <td>0</td>\n",
       "      <td>0</td>\n",
       "      <td>0</td>\n",
       "      <td>0</td>\n",
       "      <td>0</td>\n",
       "      <td>...</td>\n",
       "      <td>0</td>\n",
       "      <td>0</td>\n",
       "      <td>0</td>\n",
       "      <td>0</td>\n",
       "      <td>0</td>\n",
       "      <td>0</td>\n",
       "      <td>0</td>\n",
       "      <td>0</td>\n",
       "      <td>1</td>\n",
       "      <td>0</td>\n",
       "    </tr>\n",
       "    <tr>\n",
       "      <th>4</th>\n",
       "      <td>0</td>\n",
       "      <td>0</td>\n",
       "      <td>0</td>\n",
       "      <td>1</td>\n",
       "      <td>0</td>\n",
       "      <td>0</td>\n",
       "      <td>0</td>\n",
       "      <td>0</td>\n",
       "      <td>0</td>\n",
       "      <td>0</td>\n",
       "      <td>...</td>\n",
       "      <td>0</td>\n",
       "      <td>0</td>\n",
       "      <td>0</td>\n",
       "      <td>0</td>\n",
       "      <td>0</td>\n",
       "      <td>0</td>\n",
       "      <td>0</td>\n",
       "      <td>0</td>\n",
       "      <td>0</td>\n",
       "      <td>0</td>\n",
       "    </tr>\n",
       "  </tbody>\n",
       "</table>\n",
       "<p>5 rows × 441 columns</p>\n",
       "</div>"
      ],
      "text/plain": [
       "   1980s  1990's  2.5D  2D  2D Fighter  2D Platformer  360 Video  3D  \\\n",
       "0      0       0     0   0           0              0          0   0   \n",
       "1      0       0     0   0           0              0          0   0   \n",
       "2      0       0     0   1           0              0          0   0   \n",
       "3      0       0     0   0           0              0          0   0   \n",
       "4      0       0     0   1           0              0          0   0   \n",
       "\n",
       "   3D Fighter  3D Platformer  ...  Well-Written  Werewolves  Western  \\\n",
       "0           0              0  ...             0           0        0   \n",
       "1           0              0  ...             0           0        0   \n",
       "2           0              0  ...             0           0        0   \n",
       "3           0              0  ...             0           0        0   \n",
       "4           0              0  ...             0           0        0   \n",
       "\n",
       "   Wholesome  Word Game  World War I  World War II  Wrestling  Zombies  \\\n",
       "0          0          0            0             0          0        0   \n",
       "1          0          0            0             0          0        0   \n",
       "2          0          0            0             0          0        0   \n",
       "3          0          0            0             0          0        1   \n",
       "4          0          0            0             0          0        0   \n",
       "\n",
       "   eSports  \n",
       "0        0  \n",
       "1        0  \n",
       "2        0  \n",
       "3        0  \n",
       "4        0  \n",
       "\n",
       "[5 rows x 441 columns]"
      ]
     },
     "execution_count": 10,
     "metadata": {},
     "output_type": "execute_result"
    }
   ],
   "source": [
    "tags_df.head(5)"
   ]
  },
  {
   "cell_type": "code",
   "execution_count": 11,
   "id": "d14b0c35",
   "metadata": {},
   "outputs": [
    {
     "data": {
      "text/html": [
       "<div>\n",
       "<style scoped>\n",
       "    .dataframe tbody tr th:only-of-type {\n",
       "        vertical-align: middle;\n",
       "    }\n",
       "\n",
       "    .dataframe tbody tr th {\n",
       "        vertical-align: top;\n",
       "    }\n",
       "\n",
       "    .dataframe thead th {\n",
       "        text-align: right;\n",
       "    }\n",
       "</style>\n",
       "<table border=\"1\" class=\"dataframe\">\n",
       "  <thead>\n",
       "    <tr style=\"text-align: right;\">\n",
       "      <th></th>\n",
       "      <th>app_id</th>\n",
       "      <th>title</th>\n",
       "      <th>date_release</th>\n",
       "      <th>win</th>\n",
       "      <th>mac</th>\n",
       "      <th>linux</th>\n",
       "      <th>rating</th>\n",
       "      <th>positive_ratio</th>\n",
       "      <th>user_reviews</th>\n",
       "      <th>price_final</th>\n",
       "      <th>...</th>\n",
       "      <th>Well-Written</th>\n",
       "      <th>Werewolves</th>\n",
       "      <th>Western</th>\n",
       "      <th>Wholesome</th>\n",
       "      <th>Word Game</th>\n",
       "      <th>World War I</th>\n",
       "      <th>World War II</th>\n",
       "      <th>Wrestling</th>\n",
       "      <th>Zombies</th>\n",
       "      <th>eSports</th>\n",
       "    </tr>\n",
       "  </thead>\n",
       "  <tbody>\n",
       "    <tr>\n",
       "      <th>0</th>\n",
       "      <td>13500</td>\n",
       "      <td>Prince of Persia: Warrior Within™</td>\n",
       "      <td>2008-11-21</td>\n",
       "      <td>True</td>\n",
       "      <td>False</td>\n",
       "      <td>False</td>\n",
       "      <td>Very Positive</td>\n",
       "      <td>84</td>\n",
       "      <td>2199</td>\n",
       "      <td>9.99</td>\n",
       "      <td>...</td>\n",
       "      <td>0</td>\n",
       "      <td>0</td>\n",
       "      <td>0</td>\n",
       "      <td>0</td>\n",
       "      <td>0</td>\n",
       "      <td>0</td>\n",
       "      <td>0</td>\n",
       "      <td>0</td>\n",
       "      <td>0</td>\n",
       "      <td>0</td>\n",
       "    </tr>\n",
       "    <tr>\n",
       "      <th>1</th>\n",
       "      <td>22364</td>\n",
       "      <td>BRINK: Agents of Change</td>\n",
       "      <td>2011-08-03</td>\n",
       "      <td>True</td>\n",
       "      <td>False</td>\n",
       "      <td>False</td>\n",
       "      <td>Positive</td>\n",
       "      <td>85</td>\n",
       "      <td>21</td>\n",
       "      <td>2.99</td>\n",
       "      <td>...</td>\n",
       "      <td>0</td>\n",
       "      <td>0</td>\n",
       "      <td>0</td>\n",
       "      <td>0</td>\n",
       "      <td>0</td>\n",
       "      <td>0</td>\n",
       "      <td>0</td>\n",
       "      <td>0</td>\n",
       "      <td>0</td>\n",
       "      <td>0</td>\n",
       "    </tr>\n",
       "    <tr>\n",
       "      <th>2</th>\n",
       "      <td>113020</td>\n",
       "      <td>Monaco: What's Yours Is Mine</td>\n",
       "      <td>2013-04-24</td>\n",
       "      <td>True</td>\n",
       "      <td>True</td>\n",
       "      <td>True</td>\n",
       "      <td>Very Positive</td>\n",
       "      <td>92</td>\n",
       "      <td>3722</td>\n",
       "      <td>14.99</td>\n",
       "      <td>...</td>\n",
       "      <td>0</td>\n",
       "      <td>0</td>\n",
       "      <td>0</td>\n",
       "      <td>0</td>\n",
       "      <td>0</td>\n",
       "      <td>0</td>\n",
       "      <td>0</td>\n",
       "      <td>0</td>\n",
       "      <td>0</td>\n",
       "      <td>0</td>\n",
       "    </tr>\n",
       "    <tr>\n",
       "      <th>3</th>\n",
       "      <td>226560</td>\n",
       "      <td>Escape Dead Island</td>\n",
       "      <td>2014-11-18</td>\n",
       "      <td>True</td>\n",
       "      <td>False</td>\n",
       "      <td>False</td>\n",
       "      <td>Mixed</td>\n",
       "      <td>61</td>\n",
       "      <td>873</td>\n",
       "      <td>14.99</td>\n",
       "      <td>...</td>\n",
       "      <td>0</td>\n",
       "      <td>0</td>\n",
       "      <td>0</td>\n",
       "      <td>0</td>\n",
       "      <td>0</td>\n",
       "      <td>0</td>\n",
       "      <td>0</td>\n",
       "      <td>0</td>\n",
       "      <td>1</td>\n",
       "      <td>0</td>\n",
       "    </tr>\n",
       "    <tr>\n",
       "      <th>4</th>\n",
       "      <td>249050</td>\n",
       "      <td>Dungeon of the ENDLESS™</td>\n",
       "      <td>2014-10-27</td>\n",
       "      <td>True</td>\n",
       "      <td>True</td>\n",
       "      <td>False</td>\n",
       "      <td>Very Positive</td>\n",
       "      <td>88</td>\n",
       "      <td>8784</td>\n",
       "      <td>11.99</td>\n",
       "      <td>...</td>\n",
       "      <td>0</td>\n",
       "      <td>0</td>\n",
       "      <td>0</td>\n",
       "      <td>0</td>\n",
       "      <td>0</td>\n",
       "      <td>0</td>\n",
       "      <td>0</td>\n",
       "      <td>0</td>\n",
       "      <td>0</td>\n",
       "      <td>0</td>\n",
       "    </tr>\n",
       "  </tbody>\n",
       "</table>\n",
       "<p>5 rows × 897 columns</p>\n",
       "</div>"
      ],
      "text/plain": [
       "   app_id                              title date_release   win    mac  linux  \\\n",
       "0   13500  Prince of Persia: Warrior Within™   2008-11-21  True  False  False   \n",
       "1   22364            BRINK: Agents of Change   2011-08-03  True  False  False   \n",
       "2  113020       Monaco: What's Yours Is Mine   2013-04-24  True   True   True   \n",
       "3  226560                 Escape Dead Island   2014-11-18  True  False  False   \n",
       "4  249050            Dungeon of the ENDLESS™   2014-10-27  True   True  False   \n",
       "\n",
       "          rating  positive_ratio  user_reviews  price_final  ...  \\\n",
       "0  Very Positive              84          2199         9.99  ...   \n",
       "1       Positive              85            21         2.99  ...   \n",
       "2  Very Positive              92          3722        14.99  ...   \n",
       "3          Mixed              61           873        14.99  ...   \n",
       "4  Very Positive              88          8784        11.99  ...   \n",
       "\n",
       "   Well-Written  Werewolves  Western Wholesome Word Game  World War I  \\\n",
       "0             0           0        0         0         0            0   \n",
       "1             0           0        0         0         0            0   \n",
       "2             0           0        0         0         0            0   \n",
       "3             0           0        0         0         0            0   \n",
       "4             0           0        0         0         0            0   \n",
       "\n",
       "   World War II  Wrestling  Zombies  eSports  \n",
       "0             0          0        0        0  \n",
       "1             0          0        0        0  \n",
       "2             0          0        0        0  \n",
       "3             0          0        1        0  \n",
       "4             0          0        0        0  \n",
       "\n",
       "[5 rows x 897 columns]"
      ]
     },
     "execution_count": 11,
     "metadata": {},
     "output_type": "execute_result"
    }
   ],
   "source": [
    "df.head(5)"
   ]
  },
  {
   "cell_type": "code",
   "execution_count": null,
   "id": "068927bf",
   "metadata": {},
   "outputs": [],
   "source": [
    "# df.to_csv('Altered CSVs/MutliLabelBinarized.csv', index=False)"
   ]
  },
  {
   "cell_type": "markdown",
   "id": "a11d7021",
   "metadata": {},
   "source": [
    "# Preprocessing"
   ]
  },
  {
   "cell_type": "markdown",
   "id": "c24e5bd6",
   "metadata": {},
   "source": [
    "## Cleaning"
   ]
  },
  {
   "cell_type": "code",
   "execution_count": null,
   "id": "26a7cb1d",
   "metadata": {},
   "outputs": [],
   "source": [
    "# df = pd.read_csv('Altered CSVs/MutliLabelBinarized.csv')"
   ]
  },
  {
   "cell_type": "code",
   "execution_count": 6,
   "id": "8ba55b93",
   "metadata": {},
   "outputs": [],
   "source": [
    "# Fill Empty Descriptions\n",
    "df['description'] = df['description'].fillna(df['title'] +' '+ df['tags'])"
   ]
  },
  {
   "cell_type": "code",
   "execution_count": 7,
   "id": "269c1cd8",
   "metadata": {},
   "outputs": [],
   "source": [
    "def clean_text(text):\n",
    "    # Remove Special Characters\n",
    "    text = re.sub(r'[^\\w\\s]', '', text)\n",
    "\n",
    "    # Sets all characters to lowercase\n",
    "    text = text.lower()\n",
    "\n",
    "    # Removes URLs beginning with https, http, or www\n",
    "    text = re.sub(r'https\\S+|http\\S+|www\\S+', '', text, flags=re.MULTILINE)\n",
    "    \n",
    "    return text"
   ]
  },
  {
   "cell_type": "code",
   "execution_count": 8,
   "id": "1f9a5fca",
   "metadata": {},
   "outputs": [],
   "source": [
    "df['description'] = df['description'].apply(clean_text)\n",
    "\n",
    "# Print any rows with descriptions with only whitespace characters\n",
    "empty_descriptions = df[df['description'].str.strip() == '']\n",
    "empty_descriptions"
   ]
  },
  {
   "cell_type": "code",
   "execution_count": 9,
   "id": "f06c8bea",
   "metadata": {},
   "outputs": [
    {
     "data": {
      "text/html": [
       "<div>\n",
       "<style scoped>\n",
       "    .dataframe tbody tr th:only-of-type {\n",
       "        vertical-align: middle;\n",
       "    }\n",
       "\n",
       "    .dataframe tbody tr th {\n",
       "        vertical-align: top;\n",
       "    }\n",
       "\n",
       "    .dataframe thead th {\n",
       "        text-align: right;\n",
       "    }\n",
       "</style>\n",
       "<table border=\"1\" class=\"dataframe\">\n",
       "  <thead>\n",
       "    <tr style=\"text-align: right;\">\n",
       "      <th></th>\n",
       "      <th>app_id</th>\n",
       "      <th>title</th>\n",
       "      <th>date_release</th>\n",
       "      <th>win</th>\n",
       "      <th>mac</th>\n",
       "      <th>linux</th>\n",
       "      <th>rating</th>\n",
       "      <th>positive_ratio</th>\n",
       "      <th>user_reviews</th>\n",
       "      <th>price_final</th>\n",
       "      <th>...</th>\n",
       "      <th>Competitive</th>\n",
       "      <th>Faith</th>\n",
       "      <th>8-bit Music</th>\n",
       "      <th>Arcade</th>\n",
       "      <th>Relaxing</th>\n",
       "      <th>Lemmings</th>\n",
       "      <th>Emotional</th>\n",
       "      <th>1990s</th>\n",
       "      <th>Beat em up</th>\n",
       "      <th>Shoot Em Up</th>\n",
       "    </tr>\n",
       "  </thead>\n",
       "  <tbody>\n",
       "    <tr>\n",
       "      <th>14865</th>\n",
       "      <td>1456880</td>\n",
       "      <td>ElecHead</td>\n",
       "      <td>2021-10-14</td>\n",
       "      <td>True</td>\n",
       "      <td>False</td>\n",
       "      <td>False</td>\n",
       "      <td>Overwhelmingly Positive</td>\n",
       "      <td>98</td>\n",
       "      <td>588</td>\n",
       "      <td>9.99</td>\n",
       "      <td>...</td>\n",
       "      <td>0</td>\n",
       "      <td>0</td>\n",
       "      <td>0</td>\n",
       "      <td>0</td>\n",
       "      <td>0</td>\n",
       "      <td>0</td>\n",
       "      <td>0</td>\n",
       "      <td>0</td>\n",
       "      <td>0</td>\n",
       "      <td>0</td>\n",
       "    </tr>\n",
       "    <tr>\n",
       "      <th>25173</th>\n",
       "      <td>342570</td>\n",
       "      <td>HIS (Heroes In the Sky)</td>\n",
       "      <td>2015-03-03</td>\n",
       "      <td>True</td>\n",
       "      <td>False</td>\n",
       "      <td>False</td>\n",
       "      <td>Mostly Negative</td>\n",
       "      <td>38</td>\n",
       "      <td>539</td>\n",
       "      <td>0.00</td>\n",
       "      <td>...</td>\n",
       "      <td>0</td>\n",
       "      <td>0</td>\n",
       "      <td>0</td>\n",
       "      <td>1</td>\n",
       "      <td>0</td>\n",
       "      <td>0</td>\n",
       "      <td>0</td>\n",
       "      <td>0</td>\n",
       "      <td>0</td>\n",
       "      <td>0</td>\n",
       "    </tr>\n",
       "    <tr>\n",
       "      <th>44906</th>\n",
       "      <td>1837980</td>\n",
       "      <td>Our Elusive Suffering</td>\n",
       "      <td>2022-03-26</td>\n",
       "      <td>True</td>\n",
       "      <td>False</td>\n",
       "      <td>False</td>\n",
       "      <td>Mixed</td>\n",
       "      <td>68</td>\n",
       "      <td>70</td>\n",
       "      <td>0.00</td>\n",
       "      <td>...</td>\n",
       "      <td>0</td>\n",
       "      <td>0</td>\n",
       "      <td>0</td>\n",
       "      <td>0</td>\n",
       "      <td>0</td>\n",
       "      <td>0</td>\n",
       "      <td>0</td>\n",
       "      <td>0</td>\n",
       "      <td>0</td>\n",
       "      <td>0</td>\n",
       "    </tr>\n",
       "  </tbody>\n",
       "</table>\n",
       "<p>3 rows × 459 columns</p>\n",
       "</div>"
      ],
      "text/plain": [
       "        app_id                    title date_release   win    mac  linux  \\\n",
       "14865  1456880                 ElecHead   2021-10-14  True  False  False   \n",
       "25173   342570  HIS (Heroes In the Sky)   2015-03-03  True  False  False   \n",
       "44906  1837980    Our Elusive Suffering   2022-03-26  True  False  False   \n",
       "\n",
       "                        rating  positive_ratio  user_reviews  price_final  \\\n",
       "14865  Overwhelmingly Positive              98           588         9.99   \n",
       "25173          Mostly Negative              38           539         0.00   \n",
       "44906                    Mixed              68            70         0.00   \n",
       "\n",
       "       ...  Competitive  Faith  8-bit Music Arcade Relaxing  Lemmings  \\\n",
       "14865  ...            0      0            0      0        0         0   \n",
       "25173  ...            0      0            0      1        0         0   \n",
       "44906  ...            0      0            0      0        0         0   \n",
       "\n",
       "       Emotional  1990s  Beat em up  Shoot Em Up  \n",
       "14865          0      0           0            0  \n",
       "25173          0      0           0            0  \n",
       "44906          0      0           0            0  \n",
       "\n",
       "[3 rows x 459 columns]"
      ]
     },
     "execution_count": 9,
     "metadata": {},
     "output_type": "execute_result"
    }
   ],
   "source": [
    "# Print any rows with descriptions with only whitespace characters\n",
    "empty_descriptions = df[df['description'].str.strip() == '']\n",
    "empty_descriptions"
   ]
  },
  {
   "cell_type": "code",
   "execution_count": 10,
   "id": "dbdfe176",
   "metadata": {},
   "outputs": [
    {
     "data": {
      "text/html": [
       "<div>\n",
       "<style scoped>\n",
       "    .dataframe tbody tr th:only-of-type {\n",
       "        vertical-align: middle;\n",
       "    }\n",
       "\n",
       "    .dataframe tbody tr th {\n",
       "        vertical-align: top;\n",
       "    }\n",
       "\n",
       "    .dataframe thead th {\n",
       "        text-align: right;\n",
       "    }\n",
       "</style>\n",
       "<table border=\"1\" class=\"dataframe\">\n",
       "  <thead>\n",
       "    <tr style=\"text-align: right;\">\n",
       "      <th></th>\n",
       "      <th>app_id</th>\n",
       "      <th>title</th>\n",
       "      <th>date_release</th>\n",
       "      <th>win</th>\n",
       "      <th>mac</th>\n",
       "      <th>linux</th>\n",
       "      <th>rating</th>\n",
       "      <th>positive_ratio</th>\n",
       "      <th>user_reviews</th>\n",
       "      <th>price_final</th>\n",
       "      <th>...</th>\n",
       "      <th>Competitive</th>\n",
       "      <th>Faith</th>\n",
       "      <th>8-bit Music</th>\n",
       "      <th>Arcade</th>\n",
       "      <th>Relaxing</th>\n",
       "      <th>Lemmings</th>\n",
       "      <th>Emotional</th>\n",
       "      <th>1990s</th>\n",
       "      <th>Beat em up</th>\n",
       "      <th>Shoot Em Up</th>\n",
       "    </tr>\n",
       "  </thead>\n",
       "  <tbody>\n",
       "    <tr>\n",
       "      <th>29524</th>\n",
       "      <td>930840</td>\n",
       "      <td>东方百问~TouHouAsked</td>\n",
       "      <td>2018-10-07</td>\n",
       "      <td>True</td>\n",
       "      <td>False</td>\n",
       "      <td>False</td>\n",
       "      <td>Positive</td>\n",
       "      <td>93</td>\n",
       "      <td>29</td>\n",
       "      <td>0.99</td>\n",
       "      <td>...</td>\n",
       "      <td>0</td>\n",
       "      <td>1</td>\n",
       "      <td>0</td>\n",
       "      <td>0</td>\n",
       "      <td>0</td>\n",
       "      <td>0</td>\n",
       "      <td>0</td>\n",
       "      <td>0</td>\n",
       "      <td>0</td>\n",
       "      <td>0</td>\n",
       "    </tr>\n",
       "  </tbody>\n",
       "</table>\n",
       "<p>1 rows × 459 columns</p>\n",
       "</div>"
      ],
      "text/plain": [
       "       app_id             title date_release   win    mac  linux    rating  \\\n",
       "29524  930840  东方百问~TouHouAsked   2018-10-07  True  False  False  Positive   \n",
       "\n",
       "       positive_ratio  user_reviews  price_final  ...  Competitive  Faith  \\\n",
       "29524              93            29         0.99  ...            0      1   \n",
       "\n",
       "       8-bit Music Arcade Relaxing  Lemmings  Emotional  1990s  Beat em up  \\\n",
       "29524            0      0        0         0          0      0           0   \n",
       "\n",
       "       Shoot Em Up  \n",
       "29524            0  \n",
       "\n",
       "[1 rows x 459 columns]"
      ]
     },
     "execution_count": 10,
     "metadata": {},
     "output_type": "execute_result"
    }
   ],
   "source": [
    "null_literal_descriptions = df[df['description'].str.strip() == 'null']\n",
    "null_literal_descriptions"
   ]
  },
  {
   "cell_type": "markdown",
   "id": "0b14ad38",
   "metadata": {},
   "source": [
    "Refill Empty, Whitespace Descriptions ~~and Null Literal Descriptions~~"
   ]
  },
  {
   "cell_type": "code",
   "execution_count": 11,
   "id": "d3208d0b",
   "metadata": {},
   "outputs": [],
   "source": [
    "rows = df['description'].str.strip() == ''\n",
    "df.loc[rows, 'description'] = df.loc[rows, 'title'] +' '+ df.loc[rows, 'tags']\n",
    "\n",
    "# Apply Cleaning to Whitespace Columns\n",
    "df.loc[rows, 'description'] = df.loc[rows, 'description'].apply(clean_text)\n",
    "\n",
    "# Reprint any rows with descriptions with only whitespace characters\n",
    "empty_descriptions = df[df['description'].str.strip() == '']\n"
   ]
  },
  {
   "cell_type": "code",
   "execution_count": 12,
   "id": "a1e81407",
   "metadata": {},
   "outputs": [],
   "source": [
    "# Apply Cleaning to Whitespace Columns\n",
    "df.loc[rows, 'description'] = df.loc[rows, 'description'].apply(clean_text)"
   ]
  },
  {
   "cell_type": "code",
   "execution_count": 13,
   "id": "69d51d6a",
   "metadata": {},
   "outputs": [
    {
     "data": {
      "text/html": [
       "<div>\n",
       "<style scoped>\n",
       "    .dataframe tbody tr th:only-of-type {\n",
       "        vertical-align: middle;\n",
       "    }\n",
       "\n",
       "    .dataframe tbody tr th {\n",
       "        vertical-align: top;\n",
       "    }\n",
       "\n",
       "    .dataframe thead th {\n",
       "        text-align: right;\n",
       "    }\n",
       "</style>\n",
       "<table border=\"1\" class=\"dataframe\">\n",
       "  <thead>\n",
       "    <tr style=\"text-align: right;\">\n",
       "      <th></th>\n",
       "      <th>app_id</th>\n",
       "      <th>title</th>\n",
       "      <th>date_release</th>\n",
       "      <th>win</th>\n",
       "      <th>mac</th>\n",
       "      <th>linux</th>\n",
       "      <th>rating</th>\n",
       "      <th>positive_ratio</th>\n",
       "      <th>user_reviews</th>\n",
       "      <th>price_final</th>\n",
       "      <th>...</th>\n",
       "      <th>Competitive</th>\n",
       "      <th>Faith</th>\n",
       "      <th>8-bit Music</th>\n",
       "      <th>Arcade</th>\n",
       "      <th>Relaxing</th>\n",
       "      <th>Lemmings</th>\n",
       "      <th>Emotional</th>\n",
       "      <th>1990s</th>\n",
       "      <th>Beat em up</th>\n",
       "      <th>Shoot Em Up</th>\n",
       "    </tr>\n",
       "  </thead>\n",
       "  <tbody>\n",
       "  </tbody>\n",
       "</table>\n",
       "<p>0 rows × 459 columns</p>\n",
       "</div>"
      ],
      "text/plain": [
       "Empty DataFrame\n",
       "Columns: [app_id, title, date_release, win, mac, linux, rating, positive_ratio, user_reviews, price_final, price_original, discount, steam_deck, description, tags, Naval Combat, Mining, Submarine, Design & Illustration, Jet, Stealth, Card Game, Hunting, Intentionally Awkward Controls, Life Sim, Pirates, Psychological Horror, Animation & Modeling, Colony Sim, 3D Platformer, Card Battler, Based On A Novel, Tower Defense, Singleplayer, Science, Fighting, Combat Racing, Top-Down, Combat, Hockey, Post-apocalyptic, Game Development, On-Rails Shooter, 4X, Hentai, 2D Fighter, Party-Based RPG, Choose Your Own Adventure, Metroidvania, Real-Time with Pause, Hand-drawn, Action, Addictive, JRPG, Mars, Loot, Naval, PvP, Nudity, First-Person, RPG, Medical Sim, Agriculture, Puzzle, Robots, Sandbox, 6DOF, Spectacle fighter, Twin Stick Shooter, Philosophical, 360 Video, Turn-Based Strategy, Hacking, CRPG, Immersive, Sokoban, Lore-Rich, Puzzle Platformer, Trading Card Game, Dungeon Crawler, Grid-Based Movement, Realistic, Narrative, Sniper, Great Soundtrack, Clicker, Tennis, Diplomacy, Team-Based, Hero Shooter, TrackIR, Open World, Sailing, Drama, Cricket, Fast-Paced, Tile-Matching, Time Manipulation, Outbreak Sim, Sequel, ...]\n",
       "Index: []\n",
       "\n",
       "[0 rows x 459 columns]"
      ]
     },
     "execution_count": 13,
     "metadata": {},
     "output_type": "execute_result"
    }
   ],
   "source": [
    "# Reprint any rows with descriptions with only whitespace characters\n",
    "empty_descriptions = df[df['description'].str.strip() == '']\n",
    "empty_descriptions"
   ]
  },
  {
   "cell_type": "code",
   "execution_count": 14,
   "id": "0827cf02",
   "metadata": {},
   "outputs": [
    {
     "data": {
      "text/plain": [
       "14865    elechead puzzle platformer puzzle platformer l...\n",
       "25173    his heroes in the sky free to play multiplayer...\n",
       "44906    our elusive suffering horror surreal explorati...\n",
       "Name: description, dtype: object"
      ]
     },
     "execution_count": 14,
     "metadata": {},
     "output_type": "execute_result"
    }
   ],
   "source": [
    "# Print Fixed Descriptions\n",
    "df.loc[rows, 'description']"
   ]
  },
  {
   "cell_type": "code",
   "execution_count": null,
   "id": "c3283fdc",
   "metadata": {},
   "outputs": [],
   "source": [
    "# Checking Random Description Columns\n",
    "pd.set_option('display.max_colwidth', None)\n",
    "print(df['description'].sample(n=3))\n",
    "pd.reset_option('display.max_colwidth')"
   ]
  },
  {
   "cell_type": "code",
   "execution_count": null,
   "id": "c5ace03c",
   "metadata": {},
   "outputs": [],
   "source": [
    "# df.to_csv('Altered CSVs/after_cleaning.csv', index=False)"
   ]
  },
  {
   "cell_type": "markdown",
   "id": "1a4f9ab3",
   "metadata": {},
   "source": [
    "## Tokenization & Lemmatization"
   ]
  },
  {
   "cell_type": "code",
   "execution_count": null,
   "id": "7a264ee0",
   "metadata": {},
   "outputs": [],
   "source": [
    "# df = pd.read_csv('Altered CSVs/after_cleaning.csv')"
   ]
  },
  {
   "cell_type": "code",
   "execution_count": 18,
   "id": "a75e2e23",
   "metadata": {},
   "outputs": [],
   "source": [
    "# Tokenize the descriptions\n",
    "df['tokens'] = df['description'].apply(word_tokenize)\n",
    "\n",
    "# Remove Stop Words from Tokens\n",
    "stop_words = set(stopwords.words('english'))\n",
    "\n",
    "df['tokens'] = df['tokens'].apply(\n",
    "    lambda tokens: [word for word in tokens if word not in stop_words]\n",
    ")\n",
    "\n",
    "# Lemmatize the Tokens\n",
    "lemmatizer = WordNetLemmatizer()\n",
    "df['tokens'] = df['tokens'].apply(\n",
    "    lambda tokens: [lemmatizer.lemmatize(word) for word in tokens]\n",
    ")"
   ]
  },
  {
   "cell_type": "code",
   "execution_count": 21,
   "id": "eba61559",
   "metadata": {},
   "outputs": [],
   "source": [
    "# Remove Stop Words from Tokens\n",
    "stop_words = set(stopwords.words('english'))\n",
    "\n",
    "df['tokens'] = df['tokens'].apply(\n",
    "    lambda tokens: [word for word in tokens if word not in stop_words]\n",
    ")"
   ]
  },
  {
   "cell_type": "code",
   "execution_count": 23,
   "id": "7fec95e1",
   "metadata": {},
   "outputs": [],
   "source": [
    "# Lemmatize the Tokens\n",
    "lemmatizer = WordNetLemmatizer()\n",
    "df['tokens'] = df['tokens'].apply(\n",
    "    lambda tokens: [lemmatizer.lemmatize(word) for word in tokens]\n",
    ")"
   ]
  },
  {
   "cell_type": "code",
   "execution_count": null,
   "id": "2479a9a8",
   "metadata": {},
   "outputs": [],
   "source": [
    "# df.to_csv('Altered CSVs/after_tokenization.csv', index=False)"
   ]
  },
  {
   "cell_type": "markdown",
   "id": "7e229f1b",
   "metadata": {},
   "source": [
    "# Sentance Transformer / Embeddings\n",
    "\n"
   ]
  },
  {
   "cell_type": "code",
   "execution_count": null,
   "id": "89d2345f",
   "metadata": {},
   "outputs": [],
   "source": [
    "# df = pd.read_csv('Altered CSVs/MutliLabelBinarized.csv')"
   ]
  },
  {
   "cell_type": "code",
   "execution_count": null,
   "id": "5d876b5f",
   "metadata": {},
   "outputs": [],
   "source": [
    "model = SentenceTransformer('all-MiniLM-L6-v2')\n",
    "\n",
    "df['title'] = df['title'].fillna('')\n",
    "df['description'] = df['description'].fillna('')\n",
    "\n",
    "texts = (df['title'] + ' ' + df['description'] + ' ' + df['tags']).tolist()\n",
    "\n",
    "text_embeddings = model.encode(texts, show_progress_bar=True, convert_to_numpy=True)\n",
    "\n",
    "df['embedding'] = list(text_embeddings)"
   ]
  },
  {
   "cell_type": "code",
   "execution_count": null,
   "id": "f4b82827",
   "metadata": {},
   "outputs": [],
   "source": [
    "# df.to_csv('Altered CSVs/with_embeddings.csv', index=False)"
   ]
  },
  {
   "cell_type": "markdown",
   "id": "c246e494",
   "metadata": {},
   "source": [
    "# Normalization"
   ]
  },
  {
   "cell_type": "markdown",
   "id": "6c36e77c",
   "metadata": {},
   "source": [
    "## Min-Max"
   ]
  },
  {
   "cell_type": "code",
   "execution_count": null,
   "id": "a406a0cb",
   "metadata": {},
   "outputs": [],
   "source": [
    "# df = pd.read_csv('Altered CSVs/with_embeddings.csv')"
   ]
  },
  {
   "cell_type": "markdown",
   "id": "c8f02ceb",
   "metadata": {},
   "source": [
    "**Applied for Ratings**"
   ]
  },
  {
   "cell_type": "code",
   "execution_count": 3,
   "id": "8c0cc710",
   "metadata": {},
   "outputs": [],
   "source": [
    "rating_dict = {\n",
    "    'Overwhelmingly Positive': 9,\n",
    "    'Very Positive': 8,\n",
    "    'Positive': 7,\n",
    "    'Mostly Positive': 6,\n",
    "    'Mixed': 5,\n",
    "    'Mostly Negative': 4,\n",
    "    'Negative': 3,\n",
    "    'Very Negative': 2,\n",
    "    'Overwhelmingly Negative': 1\n",
    "}\n",
    "\n",
    "df['rating_normalized'] = (df['rating'].map(rating_dict) - 1) / 8"
   ]
  },
  {
   "cell_type": "markdown",
   "id": "4c2d7661",
   "metadata": {},
   "source": [
    "## Log Normalizing"
   ]
  },
  {
   "cell_type": "markdown",
   "id": "f4716403",
   "metadata": {},
   "source": [
    "**Applied for Positive Ratio, Price, and Review Count**"
   ]
  },
  {
   "cell_type": "code",
   "execution_count": 11,
   "id": "540d0d96",
   "metadata": {},
   "outputs": [],
   "source": [
    "df['positive_ratio_log'] = np.log1p(df['positive_ratio'])\n",
    "df['price_log'] = np.log1p(df['price_final'])\n",
    "df['user_reviews_log'] = np.log1p(df['user_reviews'])"
   ]
  },
  {
   "cell_type": "code",
   "execution_count": null,
   "id": "da7cf1f5",
   "metadata": {},
   "outputs": [],
   "source": [
    "# df.to_csv('Altered CSVs/normalized.csv', index=False)"
   ]
  },
  {
   "cell_type": "markdown",
   "id": "a3226026",
   "metadata": {},
   "source": [
    "# Concatenating Features"
   ]
  },
  {
   "cell_type": "code",
   "execution_count": 5,
   "id": "67e6e4c0",
   "metadata": {},
   "outputs": [],
   "source": [
    "df = pd.read_csv('Altered CSVs/normalized.csv')"
   ]
  },
  {
   "cell_type": "code",
   "execution_count": null,
   "id": "305cf9de",
   "metadata": {},
   "outputs": [
    {
     "ename": "ValueError",
     "evalue": "all the input arrays must have same number of dimensions, but the array at index 0 has 2 dimension(s) and the array at index 1 has 1 dimension(s)",
     "output_type": "error",
     "traceback": [
      "\u001b[1;31m---------------------------------------------------------------------------\u001b[0m",
      "\u001b[1;31mValueError\u001b[0m                                Traceback (most recent call last)",
      "Cell \u001b[1;32mIn[7], line 7\u001b[0m\n\u001b[0;32m      3\u001b[0m \u001b[38;5;66;03m# tags \u001b[39;00m\n\u001b[0;32m      5\u001b[0m numerics \u001b[38;5;241m=\u001b[39m df[[\u001b[38;5;124m'\u001b[39m\u001b[38;5;124mprice_log\u001b[39m\u001b[38;5;124m'\u001b[39m, \u001b[38;5;124m'\u001b[39m\u001b[38;5;124mpositive_ratio_log\u001b[39m\u001b[38;5;124m'\u001b[39m, \u001b[38;5;124m'\u001b[39m\u001b[38;5;124muser_reviews_log\u001b[39m\u001b[38;5;124m'\u001b[39m]]\n\u001b[1;32m----> 7\u001b[0m X \u001b[38;5;241m=\u001b[39m np\u001b[38;5;241m.\u001b[39mhstack([numerics, embeddings])\n",
      "File \u001b[1;32mc:\\Users\\vince\\anaconda3\\Lib\\site-packages\\numpy\\core\\shape_base.py:359\u001b[0m, in \u001b[0;36mhstack\u001b[1;34m(tup, dtype, casting)\u001b[0m\n\u001b[0;32m    357\u001b[0m     \u001b[38;5;28;01mreturn\u001b[39;00m _nx\u001b[38;5;241m.\u001b[39mconcatenate(arrs, \u001b[38;5;241m0\u001b[39m, dtype\u001b[38;5;241m=\u001b[39mdtype, casting\u001b[38;5;241m=\u001b[39mcasting)\n\u001b[0;32m    358\u001b[0m \u001b[38;5;28;01melse\u001b[39;00m:\n\u001b[1;32m--> 359\u001b[0m     \u001b[38;5;28;01mreturn\u001b[39;00m _nx\u001b[38;5;241m.\u001b[39mconcatenate(arrs, \u001b[38;5;241m1\u001b[39m, dtype\u001b[38;5;241m=\u001b[39mdtype, casting\u001b[38;5;241m=\u001b[39mcasting)\n",
      "\u001b[1;31mValueError\u001b[0m: all the input arrays must have same number of dimensions, but the array at index 0 has 2 dimension(s) and the array at index 1 has 1 dimension(s)"
     ]
    }
   ],
   "source": [
    "embeddings = df['embedding'].tolist()\n",
    "\n",
    "tags = tag_matrix\n",
    "\n",
    "numerics = df[['price_log', 'positive_ratio_log', 'user_reviews_log']]\n",
    "\n",
    "X = np.hstack([numerics, embeddings, tags])"
   ]
  },
  {
   "cell_type": "markdown",
   "id": "c8b593f1",
   "metadata": {},
   "source": [
    "# Cosine Similarity"
   ]
  },
  {
   "cell_type": "code",
   "execution_count": null,
   "id": "fdd0dd74",
   "metadata": {},
   "outputs": [],
   "source": [
    "# df = pd.read_csv('Altered CSVs/after_tokenization.csv')\n",
    "# Glue Tokens\n",
    "df['tokens'] = df['tokens'].apply(lambda tokens: ' '.join(tokens))\n",
    "def get_similar_games(app_id, top_n):\n",
    "    # Get Description for the given app_id\n",
    "    query = df[df['app_id'] == app_id]['tokens'].values[0]\n",
    "    query_vector = tfidf_vectorizer.transform([query])\n",
    "\n",
    "    # Compute cosine similarity\n",
    "    cosine_similarities = cosine_similarity(query_vector, tfidf_matrix).flatten()\n",
    "\n",
    "    # Get top_n indices of similar games; grabs the last n indexes from the sorted array and then flips them\n",
    "    top_indices = cosine_similarities.argsort()[-top_n-1:-1][::-1]\n",
    "\n",
    "    # Retrieve game titles and app_ids for the top similar games\n",
    "    similar_games = df.iloc[top_indices][['app_id', 'title', 'tokens']]\n",
    "    similar_games['similarity'] = cosine_similarities[top_indices]\n",
    "    similar_games = similar_games.sort_values(by='similarity', ascending=False)\n",
    "\n",
    "    # Return the DataFrame with similar games\n",
    "    return similar_games"
   ]
  }
 ],
 "metadata": {
  "kernelspec": {
   "display_name": "base",
   "language": "python",
   "name": "python3"
  },
  "language_info": {
   "codemirror_mode": {
    "name": "ipython",
    "version": 3
   },
   "file_extension": ".py",
   "mimetype": "text/x-python",
   "name": "python",
   "nbconvert_exporter": "python",
   "pygments_lexer": "ipython3",
   "version": "3.12.7"
  }
 },
 "nbformat": 4,
 "nbformat_minor": 5
}
